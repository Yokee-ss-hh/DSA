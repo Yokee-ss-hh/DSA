{
 "cells": [
  {
   "cell_type": "code",
   "execution_count": null,
   "metadata": {},
   "outputs": [],
   "source": [
    "# Stack using class and lists\n",
    "class Stack:\n",
    "    def __init__(self):\n",
    "        self.stack = []\n",
    "    \n",
    "    def is_empty(self):\n",
    "        if len(self.stack > 0):\n",
    "            return False\n",
    "        else:\n",
    "            return True\n"
   ]
  }
 ],
 "metadata": {
  "kernelspec": {
   "display_name": "Python 3.10.7 64-bit",
   "language": "python",
   "name": "python3"
  },
  "language_info": {
   "name": "python",
   "version": "3.10.7"
  },
  "orig_nbformat": 4,
  "vscode": {
   "interpreter": {
    "hash": "cfda742ef18dff517605266dd9771160ff3c27a2e6576603237457114cc98fbd"
   }
  }
 },
 "nbformat": 4,
 "nbformat_minor": 2
}
